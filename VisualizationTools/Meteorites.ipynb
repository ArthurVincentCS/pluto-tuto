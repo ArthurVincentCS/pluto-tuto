{
 "cells": [
  {
   "cell_type": "markdown",
   "metadata": {},
   "source": [
    "# Visualizing Geospatial Point Data with Python : Meteorite Landings \n",
    "\n",
    "This notenook shows how to use several open source tools and techniques for visualizing points data on differents types of maps.\n",
    "\n",
    "For this, we will use :\n",
    "- [GeoPandas](https://geopandas.org/en/stable/) to store data like [Pandas](https://pandas.pydata.org/) but with spatial information and operations\n",
    "- [BaseMap](https://matplotlib.org/basemap/stable/) and [Geoplot](https://residentmario.github.io/geoplot/), two extentions of matplotlib\n",
    "- [Folium](https://python-visualization.github.io/folium/latest/) to plot interactive maps\n",
    "- [Cartopy](https://scitools.org.uk/cartopy/docs/latest/index.html) to add satellites images\n",
    "\n",
    "## Database initialisation\n",
    "\n",
    "This data set from The Meteoritical Society contains information on all of the known meteorite landings. They were collected by Javier de la Torre and consist of 34,513 meteorites including the following fields like longitude, latitude, mass, year, ...\n",
    "\n",
    "The link to the dataset: https://data.nasa.gov/Space-Science/Meteorite-Landings/gh4g-9sfh/about_data\n",
    "\n",
    "The link of the S2 catalogue used at the end: https://catalogue.theia-land.fr/"
   ]
  },
  {
   "cell_type": "code",
   "execution_count": null,
   "metadata": {},
   "outputs": [],
   "source": [
    "# import library\n",
    "import numpy as np                       # linear algebra\n",
    "import pandas as pd                      # data processing, CSV file I/O (e.g. pd.read_csv)\n",
    "import matplotlib.pyplot as plt          # plotting library\n",
    "\n",
    "plt.ion();"
   ]
  },
  {
   "cell_type": "code",
   "execution_count": null,
   "metadata": {
    "tags": [
     "remove-stdout"
    ]
   },
   "outputs": [],
   "source": [
    "path_data = \"data/Meteorite_Landings_20240710.csv\"\n",
    "\n",
    "# Create a DataFrame from the CSV file\n",
    "df = pd.read_csv(path_data)\n",
    "\n",
    "# Firstly, let's clean the dataset and keep valid entries with known latitude and longitude \n",
    "# Plus, 0N/0E locations need to be treated as nan values\n",
    "df = df.dropna(subset = ['reclong', 'reclat', \"mass (g)\", \"year\"])\n",
    "df = df.drop(df.loc[(df.reclat == 0.0) & (df.reclong == 0.0)].index)\n",
    "\n",
    "# Display the first 5 values\n",
    "df.head()"
   ]
  },
  {
   "cell_type": "markdown",
   "metadata": {},
   "source": [
    "## Plots examples\n",
    "\n",
    "### Basemap\n",
    "\n",
    "Lets's try some plots using Basemap, a simple matplotlib library for plotting 2D data on maps."
   ]
  },
  {
   "cell_type": "markdown",
   "metadata": {},
   "source": [
    "#### Meteorites Impacts on simple map"
   ]
  },
  {
   "cell_type": "code",
   "execution_count": null,
   "metadata": {},
   "outputs": [],
   "source": [
    "from mpl_toolkits.basemap import Basemap \n",
    "\n",
    "plt.figure(figsize=(20, 10))\n",
    "\n",
    "map = Basemap(projection='cyl')\n",
    "map.drawmapboundary(fill_color='w')\n",
    "map.drawcoastlines(linewidth=0.5)\n",
    "map.drawmeridians(range(0, 360, 20), linewidth=0.1)\n",
    "\n",
    "# equator and tropics and polar circles\n",
    "map.drawparallels([-66.56083,-23.5,0.0,23.5,66.56083], linewidth=0.6)\n",
    "\n",
    "map.scatter(df.reclong, df.reclat, marker='.',alpha=0.25, c='red',edgecolor='None')\n",
    "plt.title('Map of all impacts of meteorites', fontsize=10);"
   ]
  },
  {
   "cell_type": "markdown",
   "metadata": {},
   "source": [
    "#### Meteorites Impacts with their mass of colored map"
   ]
  },
  {
   "cell_type": "code",
   "execution_count": null,
   "metadata": {},
   "outputs": [],
   "source": [
    "plt.figure(figsize=(20, 10))\n",
    "\n",
    "map = Basemap(projection='cyl')\n",
    "map.etopo() # add an etopo relief image as map background\n",
    "map.drawcountries() # add country boundaries\n",
    "map.drawmeridians(range(0, 360, 20),linewidth=0.1)\n",
    "map.drawparallels([-66.56083,-23.5,0.0,23.5,66.56083], linewidth=0.6)\n",
    "\n",
    "# Add impacts with markers size proportional to their mass\n",
    "map.scatter(df.reclong,df.reclat,s=np.sqrt(df[\"mass (g)\"]/300),alpha=1.0,color='r',edgecolors='k')\n",
    "plt.title('Map of all impacts of meteorites with their mass', fontsize=10);"
   ]
  },
  {
   "cell_type": "markdown",
   "metadata": {},
   "source": [
    "### GeoPandas\n",
    "\n",
    "GeoPandas is library that adds geographic data to pandas objects. All we need is a new \"geometric\" column with all the points (in this case)."
   ]
  },
  {
   "cell_type": "code",
   "execution_count": null,
   "metadata": {},
   "outputs": [],
   "source": [
    "import geopandas as gpd\n",
    "\n",
    "# Convert the DataFrame to a GeoDataFrame\n",
    "gdf = gpd.GeoDataFrame(\n",
    "    df, geometry=gpd.points_from_xy(df.reclong, df.reclat), crs=\"EPSG:4326\"\n",
    ")\n",
    "\n",
    "# Display the first 5 values\n",
    "gdf.head()"
   ]
  },
  {
   "cell_type": "markdown",
   "metadata": {},
   "source": [
    "#### Worlds countries\n",
    "\n",
    "We create a new Geopandas from an existing Shapefile with the polygonal description of all countries and count how many meteorites has landed into. "
   ]
  },
  {
   "cell_type": "code",
   "execution_count": null,
   "metadata": {
    "scrolled": true
   },
   "outputs": [],
   "source": [
    "# Load polygons\n",
    "world = gpd.read_file(\"data/world.shp\")\n",
    " \n",
    "# Itération par départements\n",
    "monde_regions_meteor = []\n",
    "for index, row in world.iterrows() :\n",
    "    monde_regions_meteor.append(gdf.within(row[\"geometry\"]).sum())\n",
    "world[\"nb_meteors\"] = monde_regions_meteor"
   ]
  },
  {
   "cell_type": "markdown",
   "metadata": {},
   "source": [
    "#### Meteorites Impacts with simple map\n",
    "\n",
    "Each Geopandas plot includes by default a map."
   ]
  },
  {
   "cell_type": "code",
   "execution_count": null,
   "metadata": {},
   "outputs": [],
   "source": [
    "gdf.plot(ax=world.plot(figsize=(20, 10), color='white', edgecolor='black'), \n",
    "         color='red', marker='x', markersize=2).set_title(\"Map of all impacts\");\n",
    "# add markersize=column for proportional marker"
   ]
  },
  {
   "cell_type": "markdown",
   "metadata": {},
   "source": [
    "#### Number of meteorites landings by french departement\n",
    "\n",
    "We create a new Geopandas from an existing Shapefile with the polygonal description of all departments and count how many meteorites has landed into."
   ]
  },
  {
   "cell_type": "code",
   "execution_count": null,
   "metadata": {},
   "outputs": [],
   "source": [
    "# Load polygons\n",
    "metropole_departements = gpd.read_file(\"data/departements_metro.shp\")\n",
    "\n",
    "# Iteration by departments\n",
    "# Can be a little long to compute\n",
    "counts_by_departements = []\n",
    "for index, row in metropole_departements.iterrows() :\n",
    "    counts_by_departements.append(gdf.within(row[\"geometry\"]).sum())\n",
    "metropole_departements[\"nb_meteors\"] = counts_by_departements"
   ]
  },
  {
   "cell_type": "markdown",
   "metadata": {},
   "source": [
    "#### Repartition of landing by French Departments "
   ]
  },
  {
   "cell_type": "code",
   "execution_count": null,
   "metadata": {},
   "outputs": [],
   "source": [
    "metropole_departements.plot(figsize=(10, 9), column=\"nb_meteors\", legend=True, \n",
    "                            legend_kwds={\"label\": \"Number of meteorites impacts by french department\", \"orientation\": \"horizontal\"});"
   ]
  },
  {
   "cell_type": "markdown",
   "metadata": {},
   "source": [
    "#### Number of meteorites impacts by french department with one and more landing(s)"
   ]
  },
  {
   "cell_type": "code",
   "execution_count": null,
   "metadata": {},
   "outputs": [],
   "source": [
    "metropole_departements_positive = metropole_departements.copy()\n",
    "metropole_departements_positive.replace(0, np.nan, inplace=True)\n",
    "\n",
    "metropole_departements_positive.plot(figsize=(10, 9), column=\"nb_meteors\", legend=True, \n",
    "                      legend_kwds={\"label\": \"Number of meteorites impacts by french department\", \"orientation\": \"horizontal\"}, \n",
    "                      missing_kwds={ \"color\": \"lightgrey\", \"edgecolor\": \"black\", \"hatch\": \"///\", \"label\": \"No landings\"});"
   ]
  },
  {
   "cell_type": "markdown",
   "metadata": {},
   "source": [
    "## Folium \n",
    "\n",
    "Folium is one of the many Python libraries used for visualizing geographic databases via interactive maps."
   ]
  },
  {
   "cell_type": "code",
   "execution_count": null,
   "metadata": {},
   "outputs": [],
   "source": [
    "import folium\n",
    "from folium import Choropleth, Circle, Marker\n",
    "from folium.plugins import HeatMap, MarkerCluster"
   ]
  },
  {
   "cell_type": "markdown",
   "metadata": {},
   "source": [
    "#### Meteorites Impacts by clusters"
   ]
  },
  {
   "cell_type": "code",
   "execution_count": null,
   "metadata": {},
   "outputs": [],
   "source": [
    "# Create empty map with OpenStreetMap centered on Toulouse\n",
    "map_center_toulouse = folium.Map(location=[43.600000, 1.433333], tiles=\"OpenStreetMap\", zoom_start=3)\n",
    "\n",
    "# Add points \n",
    "mc = MarkerCluster()\n",
    "for idx, row in gdf.iterrows():\n",
    "    mc.add_child(Marker([row.reclat, row.reclong], popup=str(row[\"mass (g)\"]) + \" kg\"))\n",
    "map_center_toulouse.add_child(mc)\n",
    "\n",
    "# To do the simpliest map :\n",
    "# folium.GeoJson(gdf).add_to(map_center_toulouse)   \n",
    "\n",
    "map_center_toulouse"
   ]
  },
  {
   "cell_type": "markdown",
   "metadata": {},
   "source": [
    "#### Meteorites Impacts by heatmap\n",
    "\n",
    "The interactive heatmap proposed by the library can be very interesting to help understand the distribution of data, in this case the areas where the meteorites have the most crashed."
   ]
  },
  {
   "cell_type": "code",
   "execution_count": null,
   "metadata": {},
   "outputs": [],
   "source": [
    "# Create empty map with CartoDB\n",
    "map = folium.Map(location=[0.0, 0.0], tiles='cartodbpositron', zoom_start=2)\n",
    "\n",
    "# Create heatmap\n",
    "HeatMap(data=gdf[['reclat', 'reclong']], radius=10).add_to(map)\n",
    "map"
   ]
  },
  {
   "cell_type": "markdown",
   "metadata": {},
   "source": [
    "#### Number of meteorites impacts by french department"
   ]
  },
  {
   "cell_type": "code",
   "execution_count": null,
   "metadata": {},
   "outputs": [],
   "source": [
    "# Create an empty map\n",
    "map_center_toulouse = folium.Map(location=[43.600000, 1.433333], tiles=\"OpenStreetMap\", zoom_start=5)\n",
    "\n",
    "# Create the choropleth map\n",
    "chloropleth = folium.Choropleth(geo_data = metropole_departements,\n",
    "                                name=\"choropleth\",\n",
    "                                data = metropole_departements,\n",
    "                                columns=[\"nom\", \"nb_meteors\"],\n",
    "                                key_on='feature.properties.nom',\n",
    "                                fill_color = 'YlGnBu_r',\n",
    "                                fill_opacity = 0.5,\n",
    "                                line_opacity = 1,\n",
    "                                bins=list(set(metropole_departements[\"nb_meteors\"].values)),\n",
    "                                legend_name = 'Number of meteorites impacts by french department')\n",
    "\n",
    "# Crate and add legend\n",
    "chloropleth.geojson.add_child(\n",
    "    folium.features.GeoJsonTooltip(['nom'],labels=True))\n",
    "\n",
    "chloropleth.add_to(map_center_toulouse)\n",
    "\n",
    "map_center_toulouse"
   ]
  },
  {
   "cell_type": "markdown",
   "metadata": {},
   "source": [
    "## GeoPlot\n",
    "\n",
    "It is an other extention of matplotlib with some additional tools. \n"
   ]
  },
  {
   "cell_type": "markdown",
   "metadata": {},
   "source": [
    "#### Number of meteorites impacts by country by cluster values\n",
    "\n",
    "This functionality of grouping by class can be interesting when, as our case cointains some extreme values."
   ]
  },
  {
   "cell_type": "code",
   "execution_count": null,
   "metadata": {
    "scrolled": true
   },
   "outputs": [],
   "source": [
    "import geoplot as gplt\n",
    "import mapclassify as mc\n",
    "import geoplot.crs as gcrs\n",
    "\n",
    "scheme = mc.FisherJenks(world['nb_meteors'], k=8)\n",
    "gplt.choropleth(\n",
    "    world, hue='nb_meteors', projection=gcrs.PlateCarree(),\n",
    "    edgecolor='black', linewidth=1,\n",
    "    cmap='Greens',\n",
    "    legend=True, legend_kwargs={'loc': 'lower left'},\n",
    "    scheme=scheme,\n",
    "    figsize=(20, 10)\n",
    "    #legend_labels=[...]\n",
    ")\n",
    "plt.title(\"Number of Impacts by Country\");"
   ]
  },
  {
   "cell_type": "markdown",
   "metadata": {},
   "source": [
    "### Cartopy\n",
    "\n",
    "Cartopy is another Python package designed for geospatial data processing in order to produce maps and other geospatial data analyses."
   ]
  },
  {
   "cell_type": "code",
   "execution_count": null,
   "metadata": {},
   "outputs": [],
   "source": [
    "from osgeo import gdal, osr\n",
    "\n",
    "gdal.UseExceptions()\n",
    "\n",
    "\"\"\"\n",
    "# We previously took a S2 image and resampled it to be lighter to work with\n",
    "image = 'data/S2A_MSIL1C_20240708T105031_N0510_R051_T31TCJ_20240708T125024.SAFE/GRANULE/L1C_T31TCJ_A047238_20240708T105028/IMG_DATA/T31TCJ_20240708T105031_B04.jp2'\n",
    "ds = gdal.Open(image)\n",
    "data = ds.ReadAsArray()\n",
    "gt = ds.GetGeoTransform()\n",
    "options = gdal.WarpOptions(xRes= gt[1]*20, yRes= gt[5] * 20)\n",
    "image_res = 'data/tmp/T31TCJ_20240708T105031_B04_resampled.jp2'\n",
    "gdal.Warp(image_res, iname, options=options)\n",
    "\"\"\"\n",
    "\n",
    "image_res = 'data/T31TCJ_20240708T105031_B04_resampled.jp2'"
   ]
  },
  {
   "cell_type": "code",
   "execution_count": null,
   "metadata": {},
   "outputs": [],
   "source": [
    "from pyproj import Transformer\n",
    "\n",
    "import rasterio\n",
    "\n",
    "dataset = rasterio.open(image_res)\n",
    "\n",
    "# Get image information\n",
    "epsg = dataset.crs\n",
    "\n",
    "img_extent = [dataset.bounds[0], dataset.bounds[2], dataset.bounds[1], dataset.bounds[3]] \n",
    "print(\"Lon min:\", img_extent[0], \"- max:\", img_extent[1])\n",
    "print(\"Lat min:\", img_extent[2], \"- max:\", img_extent[3])\n",
    "transformer = Transformer.from_crs(epsg, 4326, always_xy=True)\n",
    "\n",
    "img_extent_lat_lon = transformer.transform(img_extent[0], img_extent[2]) + transformer.transform(img_extent[1], img_extent[3])\n",
    "img_extent_lat_lon = [img_extent_lat_lon[0], img_extent_lat_lon[2], img_extent_lat_lon[1], img_extent_lat_lon[3]]\n",
    "print(\"Lon min:\", img_extent_lat_lon[0], \"- max:\", img_extent_lat_lon[1])\n",
    "print(\"Lat min:\", img_extent_lat_lon[2], \"- max:\", img_extent_lat_lon[3])"
   ]
  },
  {
   "cell_type": "code",
   "execution_count": null,
   "metadata": {},
   "outputs": [],
   "source": [
    "# Select impacts in the image geometry\n",
    "gdf_s2 = gdf.loc[(img_extent_lat_lon[0] < gdf[\"reclong\"]) & (gdf[\"reclong\"]<  img_extent_lat_lon[1])]\n",
    "gdf_s2 = gdf_s2.loc[( img_extent_lat_lon[2] < gdf_s2[\"reclat\"] ) & (gdf_s2[\"reclat\"] <  img_extent_lat_lon[3])]\n",
    "gdf_s2.describe()"
   ]
  },
  {
   "cell_type": "markdown",
   "metadata": {},
   "source": [
    "#### Plot impacts around Toulouse into T31TCJ S2 satellite image"
   ]
  },
  {
   "cell_type": "code",
   "execution_count": null,
   "metadata": {},
   "outputs": [],
   "source": [
    "import cartopy.crs as ccrs\n",
    "\n",
    "# Read the image and add a threshold to the image to be visually comprehensive\n",
    "img = plt.imread(image_res)\n",
    "img = np.array(img)\n",
    "img[img > 4000] = 4000 # change plot dynamique\n",
    "\n",
    "# Creation of the plot   \n",
    "fig = plt.figure(figsize=(8, 12))\n",
    "\n",
    "# Make the map\n",
    "ax = plt.axes(projection=ccrs.PlateCarree())\n",
    "ax.set_title(\"Impacts of meteorites in T31TCJ S2 tile\")\n",
    "\n",
    "# Add the image\n",
    "ax.imshow(img, origin='upper', extent=img_extent_lat_lon, transform=ccrs.PlateCarree(), cmap=\"gray\")\n",
    "\n",
    "print (gdf_s2)\n",
    "# Mark landing impacts\n",
    "ax.plot(gdf_s2[\"reclong\"], gdf_s2[\"reclat\"], 'rx', markersize=4, transform=ccrs.Geodetic())\n",
    "for idx, row in gdf_s2.iterrows(): \n",
    "    plt.text(row['reclong'] - 0.1, row['reclat'] - 0.03, int(row['year']))\n",
    "\n",
    "# Add some cities\n",
    "ax.text(1.433333, 43.600000, 'Toulouse', transform=ccrs.Geodetic(), bbox=dict(facecolor='white', alpha=0.5, boxstyle='round'))\n",
    "ax.text(1.35, 44.0167, 'Montauban', transform=ccrs.Geodetic(), bbox=dict(facecolor='white', alpha=0.5, boxstyle='round'))\n",
    "ax.text(0.633333, 44.200000, 'Agen', transform=ccrs.Geodetic(), bbox=dict(facecolor='white', alpha=0.5, boxstyle='round'))\n",
    "\n",
    "# Add coordinates legends\n",
    "gl = ax.gridlines(draw_labels=True)\n",
    "gl.top_labels = False\n",
    "gl.right_labels = False\n",
    "\n",
    "plt.show()"
   ]
  },
  {
   "cell_type": "markdown",
   "metadata": {},
   "source": [
    "#### Plot impacts in south of France with T31TCJ S2 satellite image"
   ]
  },
  {
   "cell_type": "code",
   "execution_count": null,
   "metadata": {},
   "outputs": [],
   "source": [
    "from shapely.geometry.polygon import Polygon\n",
    "import cartopy.crs as ccrs\n",
    "import cartopy.feature as cfeature\n",
    "\n",
    "# Creation of the plot   \n",
    "plt.figure(figsize=(8, 12))\n",
    "\n",
    "# Make the map\n",
    "bounds = [ -1.0, 5.0, 42.0, 45.0]\n",
    "ax = plt.axes(projection=ccrs.PlateCarree())\n",
    "ax.set_title(\"Impacts of meteorites in South of France\")\n",
    "\n",
    "ax.set_extent(bounds, crs=ccrs.PlateCarree())\n",
    "ax.add_feature(cfeature.COASTLINE.with_scale('110m'), linewidth=0.75)\n",
    "\n",
    "# Mark impacts\n",
    "ax.plot(gdf[\"reclong\"], gdf[\"reclat\"], 'kx', markersize=4, transform=ccrs.Geodetic())\n",
    "\n",
    "# Add departments geometry\n",
    "ax.add_geometries(metropole_departements[\"geometry\"].values, crs=ccrs.PlateCarree(), facecolor='none', edgecolor='red', alpha=0.5)\n",
    "\n",
    "# Add image\n",
    "ax.imshow(img, origin='upper', extent=img_extent_lat_lon, transform=ccrs.PlateCarree(), cmap=\"gray\")\n",
    "\n",
    "plt.show()"
   ]
  }
 ],
 "metadata": {
  "kernelspec": {
   "display_name": "Python 3 (ipykernel)",
   "language": "python",
   "name": "python3"
  },
  "language_info": {
   "codemirror_mode": {
    "name": "ipython",
    "version": 3
   },
   "file_extension": ".py",
   "mimetype": "text/x-python",
   "name": "python",
   "nbconvert_exporter": "python",
   "pygments_lexer": "ipython3",
   "version": "3.10.12"
  },
  "toc": {
   "base_numbering": 1,
   "nav_menu": {},
   "number_sections": false,
   "sideBar": true,
   "skip_h1_title": false,
   "title_cell": "Table of Contents",
   "title_sidebar": "Contents",
   "toc_cell": false,
   "toc_position": {},
   "toc_section_display": true,
   "toc_window_display": false
  }
 },
 "nbformat": 4,
 "nbformat_minor": 4
}
