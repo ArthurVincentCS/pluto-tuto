{
 "cells": [
  {
   "cell_type": "markdown",
   "id": "311a8e0d-14e7-4eb2-8f61-67c6c997096a",
   "metadata": {},
   "source": [
    "# Visualizing Geospatial Meterological Data in Python : Temperature, Wind and Snow Mask\n",
    "\n",
    "This notenook shows how to use several open source tools and techniques for visualizing meterological data from a shapefile on differents types of maps.\n",
    "\n",
    "For this, we will use :\n",
    "- [BaseMap](https://matplotlib.org/basemap/stable/) to plot simple variable like temperature\n",
    "- [Cartopy](https://scitools.org.uk/cartopy/docs/latest/index.html) to plot complexe variable like wind\n",
    "- [Cartopy](https://scitools.org.uk/cartopy/docs/latest/index.html) to plot a snow mask on a S2 image\n",
    "- [Folium](https://python-visualization.github.io/folium/latest/) to plot interactive map with a snow mask and S2 tile\n",
    "- [Seaborn](https://seaborn.pydata.org/) to plot statistical data \n",
    "\n",
    "\n",
    "## Database initialisation and simplification\n",
    "\n",
    "The meterological data grib come from ECMWF \"ERA5-Land hourly data from 1950 to present\" database on 12 december 2023 at 12h with :\n",
    "- 10 metre U wind component (m/s)\n",
    "- 10 metre V wind component (m/s)\n",
    "- 2 metre temperature (K)\n",
    "- Snow albedo (0-1) \n",
    "- Snow cover (%)\n",
    "- Surface pressure (Pa)\n",
    "- Total precipitation (m)\n",
    "\n",
    "The link to the dataset: https://cds.climate.copernicus.eu/cdsapp#!/dataset/reanalysis-era5-land\n",
    "\n",
    "The link of the S2 catalogue used at the end: https://catalogue.theia-land.fr/"
   ]
  },
  {
   "cell_type": "code",
   "execution_count": null,
   "id": "850cc47e-cef5-4ab8-b4e0-34ea28ceb6c5",
   "metadata": {},
   "outputs": [],
   "source": [
    "import numpy as np                       # linear algebra\n",
    "import matplotlib.pyplot as plt          # plotting library\n",
    "import pandas as pd                      # data processing\n",
    "import geopandas as gpd                  # data processing\n",
    "\n",
    "plt.ion();"
   ]
  },
  {
   "cell_type": "code",
   "execution_count": null,
   "id": "b1d110aa-f53b-41b8-b34e-04d8d4d98797",
   "metadata": {},
   "outputs": [],
   "source": [
    "import pygrib                            # era5 grib processing       \n",
    "\n",
    "# Import data\n",
    "file = 'data/all_var_1212.grib'\n",
    "grbs = pygrib.open(file)\n",
    "\n",
    "# Get Lat/Lon\n",
    "lats, lons = grbs.select()[0].latlons()\n",
    "lats, lons = np.array(lats), np.array(lons)\n",
    "\n",
    "# Get Variables\n",
    "data_uwind = grbs.select()[0].values\n",
    "data_vwind = grbs.select()[1].values\n",
    "data_t2m = grbs.select()[2].values\n",
    "data_snowa = grbs.select()[3].values\n",
    "data_snowc = grbs.select()[4].values\n",
    "data_press = grbs.select()[5].values\n",
    "data_prec = grbs.select()[6].values\n",
    "\n",
    "# Translate all no-data values to np.nan\n",
    "data_t2m[data_t2m > 1000] = np.nan\n",
    "data_t2m = data_t2m - 273.15 # substrat zero kelvin\n",
    "data_uwind[data_uwind > 1000] = np.nan\n",
    "data_snowa[data_snowa > 1000] = np.nan\n",
    "data_snowc[data_snowc > 1000] = np.nan\n",
    "data_vwind[data_vwind > 1000] = np.nan\n",
    "data_press[data_press > 106000] = np.nan"
   ]
  },
  {
   "cell_type": "markdown",
   "id": "dbf6831f-43f6-4273-a631-854aebbb1dcc",
   "metadata": {},
   "source": [
    "## Plot examples\n",
    "\n",
    "### Plot a simple variable like temperature\n",
    "\n",
    "Here is a simple way to plot a simple variable like 2m temperature on a map with Basemap"
   ]
  },
  {
   "cell_type": "code",
   "execution_count": null,
   "id": "c52cf315-e13a-4659-9a9a-13c6436be8e8",
   "metadata": {},
   "outputs": [],
   "source": [
    "from mpl_toolkits.basemap import Basemap\n",
    "\n",
    "m = Basemap(projection='cyl', llcrnrlon=-5, llcrnrlat=40, urcrnrlon=5, urcrnrlat=47, resolution='i')\n",
    "m.drawcoastlines(1)\n",
    "m.drawcountries()\n",
    "\n",
    "cf = plt.contourf(lons, lats, data_t2m, cmap='jet')\n",
    "cb = plt.colorbar(cf, fraction=0.0235, pad=0.03)\n",
    "cb.set_label('T2m (°C)', fontsize=10, rotation=90)"
   ]
  },
  {
   "cell_type": "markdown",
   "id": "c32eefb0-ba8d-482e-9909-264e255eef9b",
   "metadata": {},
   "source": [
    "### Plot a complex variable like wind direction\n",
    "\n",
    "Another exemple with more complex variable like wind direction with Cartopy library."
   ]
  },
  {
   "cell_type": "code",
   "execution_count": null,
   "id": "26d81692-2948-490a-aba5-49d87831d099",
   "metadata": {},
   "outputs": [],
   "source": [
    "import cartopy.crs as ccrs\n",
    "import matplotlib.pyplot as plt\n",
    "import matplotlib.ticker as ticker\n",
    "from cartopy.mpl.ticker import LongitudeFormatter, LatitudeFormatter\n",
    "\n",
    "ax = plt.axes(projection=ccrs.PlateCarree())\n",
    "bounds = [np.min(lons), np.max(lons), np.min(lats), np.max(lats)]\n",
    "ax.set_extent(bounds, crs=ccrs.PlateCarree())\n",
    "ax.coastlines()\n",
    "\n",
    "ax.stock_img()\n",
    "\n",
    "lon_formatter = LongitudeFormatter(zero_direction_label=True, number_format='.0f')\n",
    "lat_formatter = LatitudeFormatter()\n",
    "ax.xaxis.set_major_formatter(lon_formatter)\n",
    "ax.yaxis.set_major_formatter(lat_formatter)\n",
    "\n",
    "# Select every 10 values to keep the map readable\n",
    "ax.barbs(lons[::10, ::10],lats[::10, ::10],\n",
    "          data_uwind[::10, ::10],data_vwind[::10, ::10],\n",
    "          transform=ccrs.PlateCarree())\n",
    "ax.set_title(\"Wind Direction\");"
   ]
  },
  {
   "cell_type": "markdown",
   "id": "891a9658-c2a9-44db-9f65-5b2d02190a4f",
   "metadata": {},
   "source": [
    "### Plot variable on S2 satellite image like snow mask\n",
    "\n",
    "Here, an exemple of plot with an array like snow mask on another array like a S2 satellite image."
   ]
  },
  {
   "cell_type": "code",
   "execution_count": null,
   "id": "44574238-cade-4b9a-a9b8-6528711dd7c8",
   "metadata": {},
   "outputs": [],
   "source": [
    "from osgeo import gdal, osr\n",
    "import pyproj \n",
    "\n",
    "\"\"\"\n",
    "# We previously took a S2 image and resampled it to be lighter to work with\n",
    "image = \"data/S2B_MSIL1C_20240112T104319_N0510_R008_T31TDH_20240112T214056.SAFE/GRANULE/L1C_T31TDH_A035784_20240112T104318/IMG_DATA/T31TDH_20240112T104319_B04.jp2\"\n",
    "ds = gdal.Open(image)\n",
    "data = ds.ReadAsArray()\n",
    "gt = ds.GetGeoTransform()\n",
    "options = gdal.WarpOptions(xRes= gt[1]*20, yRes= gt[5] * 20)\n",
    "image_res = 'data/tmp/T31TDH_20240112T104319_B04_resampled.jp2'\n",
    "gdal.Warp(image_res, image, options=options)\n",
    "\"\"\"\n",
    "\n",
    "image_res = 'data/T31TDH_20240112T104319_B04_resampled.jp2'"
   ]
  },
  {
   "cell_type": "code",
   "execution_count": null,
   "id": "f502e43a-268d-4335-8d01-6a0b5496b02a",
   "metadata": {},
   "outputs": [],
   "source": [
    "import rasterio\n",
    "\n",
    "dataset = rasterio.open(image_res)\n",
    "\n",
    "# Get image information\n",
    "epsg = dataset.crs\n",
    "img_extent = [dataset.bounds[0], dataset.bounds[2], dataset.bounds[1], dataset.bounds[3]] \n",
    "\n",
    "proj = pyproj.Transformer.from_crs(epsg, 4326, always_xy=True)\n",
    "min_lon, max_lat = proj.transform(img_extent[0], img_extent[3])\n",
    "max_lon, min_lat = proj.transform(img_extent[1], img_extent[2])\n",
    "img_extent = (min_lon, max_lon, min_lat, max_lat) \n",
    "\n",
    "# Add a threshold to the image to be visually comprehensive\n",
    "img = plt.imread(image_res)\n",
    "img = np.array(img)\n",
    "img[img > 10000] = 10000 # change plot dynamique\n",
    "\n",
    "# Variable preprocessing \n",
    "pixel_size = 0.1\n",
    "var_extent = (np.min(lons), np.max(lons) - pixel_size, np.min(lats), np.max(lats) + pixel_size)"
   ]
  },
  {
   "cell_type": "code",
   "execution_count": null,
   "id": "16a0569d-cdd7-4da8-bc9e-ee0c92287cdb",
   "metadata": {},
   "outputs": [],
   "source": [
    "# Create a the snow mask\n",
    "# snow = 1 ; no_snow = nan\n",
    "data_snowc_mask = data_snowc.copy()\n",
    "data_snowc_mask[data_snowc_mask > 0.8] = 1\n",
    "data_snowc_mask[data_snowc_mask <= 0.8] = np.nan\n",
    "data_snowc_mask = data_snowc_mask.filled(np.nan)"
   ]
  },
  {
   "cell_type": "markdown",
   "id": "fe0ebe35-3d21-44a6-ab82-8ab0f9631eb9",
   "metadata": {},
   "source": [
    "#### Using Cartopy\n"
   ]
  },
  {
   "cell_type": "code",
   "execution_count": null,
   "id": "c346915d-2b25-429f-b749-acb488a1e5d2",
   "metadata": {
    "scrolled": true
   },
   "outputs": [],
   "source": [
    "import cartopy.crs as ccrs\n",
    "import cartopy.feature as cfeature\n",
    "\n",
    "# Make the map\n",
    "ax = plt.axes(projection=ccrs.PlateCarree())\n",
    "ax.set_title(\"Snow Mask\")\n",
    "ax.set_extent(img_extent, crs=ccrs.PlateCarree())\n",
    "ax.add_feature(cfeature.COASTLINE.with_scale('110m'), linewidth=0.75)\n",
    "\n",
    "# Add S2 image\n",
    "ax.imshow(img, origin='upper', extent=img_extent, transform=ccrs.PlateCarree(), cmap=\"gray\", alpha=1.0)\n",
    "\n",
    "# Add snow mask (nan values are transparent)\n",
    "ax.imshow(data_snowc_mask, origin='upper', extent=var_extent, transform=ccrs.PlateCarree(), alpha=0.6)\n",
    "\n",
    "# Add coordinates legends\n",
    "gl = ax.gridlines(draw_labels=True)\n",
    "gl.top_labels = False\n",
    "gl.right_labels = False\n",
    "\n",
    "plt.show()"
   ]
  },
  {
   "cell_type": "markdown",
   "id": "3f35eef4-8fa3-4472-b97a-f8a73fd48154",
   "metadata": {},
   "source": [
    "#### Using Folium"
   ]
  },
  {
   "cell_type": "code",
   "execution_count": null,
   "id": "0a07cf36-5098-4bab-b6dc-db6a4c05607e",
   "metadata": {},
   "outputs": [],
   "source": [
    "import folium\n",
    "\n",
    "m = folium.Map([42.3576304959657, 1.7656944498250533], zoom_start=8)\n",
    "\n",
    "# Add S2 image\n",
    "folium.raster_layers.ImageOverlay(\n",
    "    image=img,\n",
    "    name=\"S2 Image\",\n",
    "    bounds=[[img_extent[2],img_extent[0]],[img_extent[3],img_extent[1]]],\n",
    "    opacity=1,\n",
    "    zindex=1,\n",
    ").add_to(m)\n",
    "\n",
    "# Create a custom colormap with nan values transparent\n",
    "cmap = plt.colormaps[\"viridis\"]\n",
    "cmap.set_bad(alpha=0)  \n",
    "\n",
    "# Add snow mask\n",
    "folium.raster_layers.ImageOverlay(\n",
    "    image=data_snowc_mask,\n",
    "    name=\"Snow Mask\",\n",
    "    bounds=[[np.min(lats), np.min(lons)],[ np.max(lats) + pixel_size, np.max(lons) - pixel_size]],  \n",
    "    colormap=cmap,\n",
    "    opacity=0.6,\n",
    "    zindex=2,\n",
    ").add_to(m)\n",
    "\n",
    "folium.LayerControl().add_to(m)\n",
    "\n",
    "m"
   ]
  },
  {
   "cell_type": "markdown",
   "id": "b9aeb24b-d31a-48ac-b572-5067af2a940e",
   "metadata": {},
   "source": [
    "## Analysis example\n",
    "\n"
   ]
  },
  {
   "cell_type": "code",
   "execution_count": null,
   "id": "d92738c1-6ac3-426e-83be-229a3d72a2c8",
   "metadata": {},
   "outputs": [],
   "source": [
    "# Load data in a pandas \n",
    "data = np.array([np.array(lats[:]).flatten(), \n",
    "                 np.array(lons[:]).flatten(), \n",
    "                 np.array(data_t2m).flatten(),\n",
    "                 np.array(data_press[:]).flatten(),\n",
    "                 np.array(data_uwind[:]).flatten(),\n",
    "                 np.array(data_vwind[:]).flatten(),\n",
    "                 np.array(data_snowa[:]).flatten(),\n",
    "                 np.array(data_snowc[:]).flatten(),\n",
    "                ]).T\n",
    "\n",
    "df = pd.DataFrame(data=data, columns=[\"lat\", \"lon\", \"t2m\", \"press\", \"uwind\", \"vwind\", \"snowa\", \"snowc\"])\n",
    "\n",
    "# And transform it in the geopandas (with a new geometry column containing Point(lon, lat) info)\n",
    "gdf = gpd.GeoDataFrame(\n",
    "    df, geometry=gpd.points_from_xy(df.lon, df.lat), crs=\"EPSG:4326\"\n",
    ")\n",
    "\n",
    "# Display the first 5 values\n",
    "gdf.head()  # NaN values are present on sea area"
   ]
  },
  {
   "cell_type": "markdown",
   "id": "d7737d8e-ad72-4221-9183-14a670d61dba",
   "metadata": {},
   "source": [
    "### SeaBorn\n",
    "\n",
    "Seaborn is a Python statistical data visualization library based on matplotlib. "
   ]
  },
  {
   "cell_type": "code",
   "execution_count": null,
   "id": "583e6453-c306-4266-a55d-cc4827eb15bb",
   "metadata": {},
   "outputs": [],
   "source": [
    "import seaborn as sns\n",
    "\n",
    "# Study of the relationship between temperature (t2m) and the presence of snow (snowc)\n",
    "# and their histogram\n",
    "sns.jointplot(data=gdf, x=\"t2m\", y=\"snowc\");"
   ]
  },
  {
   "cell_type": "code",
   "execution_count": null,
   "id": "51d004f4-e76b-48e3-8bff-cd8d7e4cd034",
   "metadata": {},
   "outputs": [],
   "source": [
    "# Study of the relationship between temperature (t2m) and the latitude (lat)\n",
    "sns.kdeplot(data=gdf, x=\"t2m\", y=\"lat\");"
   ]
  },
  {
   "cell_type": "code",
   "execution_count": null,
   "id": "be59b3cf-9df6-40b6-b01d-11b518ed1fb2",
   "metadata": {},
   "outputs": [],
   "source": [
    "# Study of the relationship several variables and their histogram\n",
    "sns.pairplot(data=gdf[[\"snowc\",\"snowa\", \"t2m\", \"lat\"]]);"
   ]
  },
  {
   "cell_type": "code",
   "execution_count": null,
   "id": "0ce280d5-4101-4c16-bf1b-52383513d6be",
   "metadata": {},
   "outputs": [],
   "source": []
  }
 ],
 "metadata": {
  "kernelspec": {
   "display_name": "Python 3 (ipykernel)",
   "language": "python",
   "name": "python3"
  },
  "language_info": {
   "codemirror_mode": {
    "name": "ipython",
    "version": 3
   },
   "file_extension": ".py",
   "mimetype": "text/x-python",
   "name": "python",
   "nbconvert_exporter": "python",
   "pygments_lexer": "ipython3",
   "version": "3.10.12"
  }
 },
 "nbformat": 4,
 "nbformat_minor": 5
}
