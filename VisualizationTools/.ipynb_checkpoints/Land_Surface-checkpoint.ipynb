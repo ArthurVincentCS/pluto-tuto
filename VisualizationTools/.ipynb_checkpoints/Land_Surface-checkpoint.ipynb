{
 "cells": [
  {
   "cell_type": "markdown",
   "id": "90702e6e-4ccb-49e0-a663-764b09c3aee7",
   "metadata": {},
   "source": [
    "# Visualizing Geospatial Polygon Data with Python : Land Surface\n",
    "\n",
    "This notenook shows how to use several open source tools and techniques for visualizing polygon data from a shapefile on differents types of maps.\n",
    "\n",
    "For this, we will use :\n",
    "- [GeoPandas](https://geopandas.org/en/stable/) to store data like [Pandas](https://pandas.pydata.org/) but with spatial information and operations\n",
    "- [Cartopy](https://scitools.org.uk/cartopy/docs/latest/index.html) to add satellites images\n",
    "\n",
    "## Database initialisation and simplification\n",
    "\n",
    "The land surface shapefile used here is from the Theia database CES Occupation des sols. It's automatically produced from Sentinel-2A and Sentinel-2B data, with a resolution of 10m and 24 types of land.\n",
    "\n",
    "The link to the dataset: https://theia.cnes.fr/atdistrib/rocket/#/search?collection=OSO\n",
    "\n",
    "The link of the S2 catalogue used at the end: https://catalogue.theia-land.fr/"
   ]
  },
  {
   "cell_type": "code",
   "execution_count": null,
   "id": "a6a152e4-0e80-457e-875c-7e42e089a55e",
   "metadata": {},
   "outputs": [],
   "source": [
    "import numpy as np                       # linear algebra\n",
    "import matplotlib.pyplot as plt          # plotting library\n",
    "import pandas as pd                      # data processing\n",
    "import geopandas as gpd                  # data processing\n",
    "\n",
    "plt.ion();"
   ]
  },
  {
   "cell_type": "code",
   "execution_count": null,
   "id": "5f004406-104f-428e-805a-56d6ea733df5",
   "metadata": {
    "scrolled": true
   },
   "outputs": [],
   "source": [
    "# Load haute-garonne shapefile with geopandas\n",
    "hg = gpd.read_file(\"data/departement_31.shp\")\n",
    "\n",
    "# Display the first 3 values\n",
    "hg.head(3)"
   ]
  },
  {
   "cell_type": "code",
   "execution_count": null,
   "id": "d4702fe7-ca39-4d83-881e-77c320456afc",
   "metadata": {},
   "outputs": [],
   "source": [
    "# Sum all agriculutural/countryside columns in one\n",
    "countryside_columns = ['Colza', 'CerealPail','Proteagine', 'Soja', 'Tournesol', 'Mais', 'Riz', 'TuberRacin',\n",
    "        'Vergers', 'Vignes',  'Serres', 'Prairie']\n",
    "hg['Agriculture'] =  hg[countryside_columns].sum(axis=1)\n",
    "\n",
    "# Same for forests and urbans columns\n",
    "hg['Foret'] =  hg[['Feuillus', 'Coniferes']].sum(axis=1)\n",
    "hg['Urbain'] =  hg[['UrbainDens', 'UrbainDiff', 'ZoneIndCom', 'Routes',  'Pelouse']].sum(axis=1)   \n",
    "\n",
    "# Delete all sub columns already used\n",
    "types_list = ['Foret','Urbain', \"Agriculture\", 'Landes',  'PlageDune', 'GlaceNeige', 'Eau']\n",
    "hg_main_types = hg[ types_list + [\"geometry\"]]\n",
    "\n",
    "# Display the first 5 values\n",
    "hg_main_types.head()"
   ]
  },
  {
   "cell_type": "markdown",
   "id": "5f1fd2e5-36cd-4f93-8026-24333aedf323",
   "metadata": {
    "scrolled": true
   },
   "source": [
    "## Plot examples\n",
    "\n",
    "### Plot density of urban land for each polygon\n",
    "\n",
    "With geopandas, the plot present by default spacialy information."
   ]
  },
  {
   "cell_type": "code",
   "execution_count": null,
   "id": "a0c42a72-0a05-428a-8e74-2887681919d3",
   "metadata": {},
   "outputs": [],
   "source": [
    "hg_main_types.plot(column=\"Urbain\", cmap=\"OrRd\", legend=True);"
   ]
  },
  {
   "cell_type": "markdown",
   "id": "83e2bff2-b188-4e09-ace4-5512d166c256",
   "metadata": {},
   "source": [
    "### Plot main type of each polygon"
   ]
  },
  {
   "cell_type": "code",
   "execution_count": null,
   "id": "8fb31749-293e-4dd5-b1d3-47c4a0acd8cd",
   "metadata": {},
   "outputs": [],
   "source": [
    "# The main type of each polygon is the column with the greatest value\n",
    "hg_main_types[\"Type\"] = hg_main_types[types_list].idxmax(axis=1)\n",
    "\n",
    "# Plot that new column\n",
    "hg_main_types.plot(column = \"Type\", legend=True);"
   ]
  },
  {
   "cell_type": "markdown",
   "id": "8dc78484-f7f8-471f-b8f7-de23dbaa281a",
   "metadata": {},
   "source": [
    "### Plot urban and countryside land on a satellite image\n",
    "\n",
    "To do this, we use Cartopy that manage projections."
   ]
  },
  {
   "cell_type": "code",
   "execution_count": null,
   "id": "052a16d2-13df-47be-9028-431b25323468",
   "metadata": {},
   "outputs": [],
   "source": [
    "from osgeo import gdal, osr\n",
    "import rasterio\n",
    "\n",
    "image_crop = 'data/T31TCJ_20240708T105031_B04_crop.jp2'\n",
    "crop = [ 350000,  4850020, 399800, 4800220]\n",
    "\n",
    "\n",
    "\"\"\"# We previously took a S2 image and crop it to be lighter to work with\n",
    "image = 'data/S2A_MSIL1C_20240708T105031_N0510_R051_T31TCJ_20240708T125024.SAFE/GRANULE/L1C_T31TCJ_A047238_20240708T105028/IMG_DATA/T31TCJ_20240708T105031_B04.jp2'\n",
    "gdal.Translate(image_crop, image, projWin = crop)\"\"\"\n",
    "\n"
   ]
  },
  {
   "cell_type": "code",
   "execution_count": null,
   "id": "59f25d07-bcb4-49d7-9762-a9bbec758cf1",
   "metadata": {
    "scrolled": true
   },
   "outputs": [],
   "source": [
    "dataset = rasterio.open(image_crop)\n",
    "\n",
    "# Get image information\n",
    "epsg = dataset.crs\n",
    "img_proj = [dataset.bounds[0], dataset.bounds[2], dataset.bounds[1], dataset.bounds[3]] \n",
    "\n",
    "# Add a threshold to the image to be visually comprehensive\n",
    "img = plt.imread(image_crop)\n",
    "img = np.array(img)\n",
    "img[img > 10000] = 10000\n",
    "\n",
    "# Projection on the land surface polygon into the image epsg \n",
    "hg_main_types = hg_main_types.to_crs(epsg)\n",
    "\n",
    "# Select only urban and countryside lands \n",
    "hg_agri = hg_main_types.loc[hg_main_types[\"Type\"] == \"Agriculture\"]\n",
    "hg_urb = hg_main_types.loc[hg_main_types[\"Type\"] == \"Urbain\"]"
   ]
  },
  {
   "cell_type": "code",
   "execution_count": null,
   "id": "d492de95-7836-42fc-b892-20774b124168",
   "metadata": {},
   "outputs": [],
   "source": [
    "import cartopy.crs as ccrs\n",
    "\n",
    "# Creation of the plot   \n",
    "fig = plt.figure(figsize=(8, 12))\n",
    "\n",
    "# Make the map\n",
    "ax = plt.axes(projection=ccrs.UTM(zone=30))\n",
    "ax.set_title('T31TCJ S2 tiles with urban (orange) and countryside (green) area')\n",
    "ax.set_extent(img_proj, crs=ccrs.UTM(zone=30))\n",
    "\n",
    "# Add the image\n",
    "ax.imshow(img, origin='upper', extent=img_proj, transform=ccrs.UTM(zone=30), cmap=\"gray\", alpha=1.0)\n",
    "\n",
    "# Add urban and countryside lands\n",
    "ax.add_geometries(hg_agri[\"geometry\"].values, crs=ccrs.UTM(zone=30), facecolor='green', alpha=0.7)\n",
    "ax.add_geometries(hg_urb[\"geometry\"].values, crs=ccrs.UTM(zone=30), facecolor='orange', alpha=0.7)\n",
    "\n",
    "# Add coordinates legends\n",
    "gl = ax.gridlines(draw_labels=True)\n",
    "gl.top_labels = False\n",
    "gl.right_labels = False\n",
    "\n",
    "plt.show()"
   ]
  },
  {
   "cell_type": "code",
   "execution_count": null,
   "id": "51834519-3af3-4b91-ae0b-37acb5cbb901",
   "metadata": {},
   "outputs": [],
   "source": []
  },
  {
   "cell_type": "code",
   "execution_count": null,
   "id": "cd958e1f-ec87-4eb0-b433-df675161ac0c",
   "metadata": {},
   "outputs": [],
   "source": []
  },
  {
   "cell_type": "code",
   "execution_count": null,
   "id": "872021b2-3e8a-4ce1-b55c-bed57f6c502d",
   "metadata": {},
   "outputs": [],
   "source": []
  }
 ],
 "metadata": {
  "kernelspec": {
   "display_name": "Python 3 (ipykernel)",
   "language": "python",
   "name": "python3"
  },
  "language_info": {
   "codemirror_mode": {
    "name": "ipython",
    "version": 3
   },
   "file_extension": ".py",
   "mimetype": "text/x-python",
   "name": "python",
   "nbconvert_exporter": "python",
   "pygments_lexer": "ipython3",
   "version": "3.10.12"
  }
 },
 "nbformat": 4,
 "nbformat_minor": 5
}
